{
 "cells": [
  {
   "cell_type": "code",
   "execution_count": 35,
   "metadata": {},
   "outputs": [],
   "source": [
    "import pandas as pd\n",
    "import numpy as np"
   ]
  },
  {
   "cell_type": "code",
   "execution_count": 36,
   "metadata": {},
   "outputs": [
    {
     "name": "stdout",
     "output_type": "stream",
     "text": [
      "      ORDERNUMBER  QUANTITYORDERED  PRICEEACH  ORDERLINENUMBER    SALES  \\\n",
      "0           10107               30      95.70                2  2871.00   \n",
      "1           10121               34      81.35                5  2765.90   \n",
      "2           10134               41      94.74                2  3884.34   \n",
      "3           10145               45      83.26                6  3746.70   \n",
      "4           10159               49     100.00               14  5205.27   \n",
      "...           ...              ...        ...              ...      ...   \n",
      "2818        10350               20     100.00               15  2244.40   \n",
      "2819        10373               29     100.00                1  3978.51   \n",
      "2820        10386               43     100.00                4  5417.57   \n",
      "2821        10397               34      62.24                1  2116.16   \n",
      "2822        10414               47      65.52                9  3079.44   \n",
      "\n",
      "            ORDERDATE    STATUS  QTR_ID  MONTH_ID  YEAR_ID  ...  \\\n",
      "0      2/24/2003 0:00   Shipped       1         2     2003  ...   \n",
      "1       5/7/2003 0:00   Shipped       2         5     2003  ...   \n",
      "2       7/1/2003 0:00   Shipped       3         7     2003  ...   \n",
      "3      8/25/2003 0:00   Shipped       3         8     2003  ...   \n",
      "4     10/10/2003 0:00   Shipped       4        10     2003  ...   \n",
      "...               ...       ...     ...       ...      ...  ...   \n",
      "2818   12/2/2004 0:00   Shipped       4        12     2004  ...   \n",
      "2819   1/31/2005 0:00   Shipped       1         1     2005  ...   \n",
      "2820    3/1/2005 0:00  Resolved       1         3     2005  ...   \n",
      "2821   3/28/2005 0:00   Shipped       1         3     2005  ...   \n",
      "2822    5/6/2005 0:00   On Hold       2         5     2005  ...   \n",
      "\n",
      "                 PHONE                   ADDRESSLINE1 ADDRESSLINE2  \\\n",
      "0           2125557818        897 Long Airport Avenue          NaN   \n",
      "1           26.47.1555             59 rue de l'Abbaye          NaN   \n",
      "2     +33 1 46 62 7555  27 rue du Colonel Pierre Avia          NaN   \n",
      "3           6265557265             78934 Hillside Dr.          NaN   \n",
      "4           6505551386                7734 Strong St.          NaN   \n",
      "...                ...                            ...          ...   \n",
      "2818    (91) 555 94 44             C/ Moralzarzal, 86          NaN   \n",
      "2819        981-443655                    Torikatu 38          NaN   \n",
      "2820    (91) 555 94 44             C/ Moralzarzal, 86          NaN   \n",
      "2821        61.77.6555          1 rue Alsace-Lorraine          NaN   \n",
      "2822        6175559555             8616 Spinnaker Dr.          NaN   \n",
      "\n",
      "               CITY STATE POSTALCODE        COUNTRY TERRITORY CONTACTLASTNAME  \\\n",
      "0               NYC    NY      10022  United States       NaN              Yu   \n",
      "1             Reims   NaN      51100         France      EMEA         Henriot   \n",
      "2             Paris   NaN      75508         France      EMEA        Da Cunha   \n",
      "3          Pasadena    CA      90003            USA       NaN           Young   \n",
      "4     San Francisco    CA        NaN  United States       NaN           Brown   \n",
      "...             ...   ...        ...            ...       ...             ...   \n",
      "2818         Madrid   NaN      28034          Spain      EMEA          Freyre   \n",
      "2819           Oulu   NaN      90110        Finland      EMEA       Koskitalo   \n",
      "2820         Madrid   NaN      28034          Spain      EMEA          Freyre   \n",
      "2821       Toulouse   NaN      31000         France      EMEA          Roulet   \n",
      "2822         Boston    MA      51003            USA       NaN         Yoshido   \n",
      "\n",
      "     CONTACTFIRSTNAME  \n",
      "0                Kwai  \n",
      "1                Paul  \n",
      "2              Daniel  \n",
      "3               Julie  \n",
      "4               Julie  \n",
      "...               ...  \n",
      "2818            Diego  \n",
      "2819           Pirkko  \n",
      "2820            Diego  \n",
      "2821          Annette  \n",
      "2822             Juri  \n",
      "\n",
      "[2823 rows x 24 columns]\n"
     ]
    }
   ],
   "source": [
    "# Create a DataFrame\n",
    "df = pd.read_csv('../data/sales_data.csv', encoding='ISO-8859-1')\n",
    "print(df)"
   ]
  },
  {
   "cell_type": "code",
   "execution_count": 37,
   "metadata": {},
   "outputs": [],
   "source": [
    "clean_df = df.dropna(subset=['STATE'])\n",
    "clean_df.to_xml('clean_sales_data.xml', index=False,parser='etree')"
   ]
  }
 ],
 "metadata": {
  "kernelspec": {
   "display_name": "env",
   "language": "python",
   "name": "python3"
  },
  "language_info": {
   "codemirror_mode": {
    "name": "ipython",
    "version": 3
   },
   "file_extension": ".py",
   "mimetype": "text/x-python",
   "name": "python",
   "nbconvert_exporter": "python",
   "pygments_lexer": "ipython3",
   "version": "3.12.3"
  }
 },
 "nbformat": 4,
 "nbformat_minor": 2
}
